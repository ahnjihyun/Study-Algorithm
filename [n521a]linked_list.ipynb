{
  "nbformat": 4,
  "nbformat_minor": 0,
  "metadata": {
    "colab": {
      "name": "[n521a]linked list.ipynb",
      "provenance": [],
      "collapsed_sections": [],
      "authorship_tag": "ABX9TyPgKrWAOhVypAppxs1jStfl",
      "include_colab_link": true
    },
    "kernelspec": {
      "name": "python3",
      "display_name": "Python 3"
    },
    "language_info": {
      "name": "python"
    }
  },
  "cells": [
    {
      "cell_type": "markdown",
      "metadata": {
        "id": "view-in-github",
        "colab_type": "text"
      },
      "source": [
        "<a href=\"https://colab.research.google.com/github/ahnjihyun/Study-Algorithm/blob/main/%5Bn521a%5Dlinked_list.ipynb\" target=\"_parent\"><img src=\"https://colab.research.google.com/assets/colab-badge.svg\" alt=\"Open In Colab\"/></a>"
      ]
    },
    {
      "cell_type": "markdown",
      "metadata": {
        "id": "3IQmGuUI9zH8"
      },
      "source": [
        "# 자료구조\n"
      ]
    },
    {
      "cell_type": "markdown",
      "metadata": {
        "id": "yya1GjfHBDYZ"
      },
      "source": [
        "## 1. 연결 리스트(Linked list)"
      ]
    },
    {
      "cell_type": "markdown",
      "metadata": {
        "id": "5H3h6XZu9zbk"
      },
      "source": [
        "- 노드간의 '동적'이라는 개념을 컴퓨터 프로그래밍에서는 '연결'이라는 개념으로 접목시켰다.\n",
        "\n",
        "- 위의 소스코드와 같은 경우는 주소의 위치를 바꿔주면서 '교체'를 해준다.\n",
        "\n",
        "- 위의 head 노드를 삭제하는 것도 head 자체를 바로 삭제하는 것이 아니라, head의 위치를 바꿔주는 것이다.\n",
        "\n",
        "- 기존방식이었던 인덱스를 통해 함수로 삽입/삭제/검색이 가능했었지만, 연결리스트는 인덱스의 기능을 할 수 있도록 노드별로 위치를 변경해줘야하는 다른 점이 있다.\n",
        "\n"
      ]
    },
    {
      "cell_type": "code",
      "metadata": {
        "id": "WZ0XL2oAoJIX"
      },
      "source": [
        "# 연결리스트의 노드를 저장하는 첫 단계\n",
        "\n",
        "class Node:\n",
        "  def __init__(self,value,next=None):\n",
        "    self.value = value  # 노드의 값을 나타내는 value\n",
        "    self.next = next  # 노드의 다음위치를 가리키는 next의 초기값은 None\n",
        "\n",
        "class linked_list:\n",
        "  def __init__(self,value):\n",
        "    self.head = Node(value) # 초기 클래스에 head노드선언\n",
        "\n",
        "  def add_node(value):\n",
        "    node = head           # 첫번째 위치에 해당하는 head를 생성하고, node 변수에 저장해둔다.\n",
        "    while head.next:      # head노드의 다음위치에 노드가 생성될 때까지 반복문 진행한다.\n",
        "      node = head.next    # head노드의 다음위치에 노드가 있는 경우(두번째 노드라고 가정),\n",
        "      print(head.next)\n",
        "                          # 두번째 노드부터 node변수에 저장\n",
        "    node.next = Node(value)# 데이터를 노드 다음위치에 저장"
      ],
      "execution_count": 2,
      "outputs": []
    },
    {
      "cell_type": "code",
      "metadata": {
        "colab": {
          "base_uri": "https://localhost:8080/"
        },
        "id": "sELiCc_wo4oH",
        "outputId": "3479ec31-6032-4862-d579-43ba91098885"
      },
      "source": [
        "# 연결리스트의 노드값들에 대해서 봐보자.\n",
        "\n",
        "head = Node(5)    # head노드에 값5를 저장\n",
        "linked_list.add_node(11) # 값11을 추가\n",
        "\n",
        "\n",
        "# print(head) # head노드의 주소\n",
        "# print(head.next) # head노드의 다음위치노드의 주소값\n",
        "\n",
        "print(head.value) # head노드의 값은 5\n",
        "print(head.next.value) # head노드의 다음위치노드의 값은 11\n",
        "\n",
        "# print(head.next.next.value) \n",
        "# 여기서 쓰이는 next도 하나의 변수일 뿐이다. \n",
        "# 실제로 다음노드를 가리키는 것이 아니라 변수로서의 의미를 위해 next로 칭한것이다.\n",
        "# 그래서 무분별하게 next를 쓰면 당연히 에러가 난다.\n",
        "\n",
        "# print(node) # node는 add_node함수에서만 쓰이는 지역변수이므로 출력할 수 없음\n",
        "# print(node.next) \n",
        "# print(node.value)"
      ],
      "execution_count": 4,
      "outputs": [
        {
          "output_type": "stream",
          "text": [
            "5\n",
            "11\n"
          ],
          "name": "stdout"
        }
      ]
    },
    {
      "cell_type": "code",
      "metadata": {
        "colab": {
          "base_uri": "https://localhost:8080/"
        },
        "id": "HbhfU_cGoEsx",
        "outputId": "baac80a2-f9ce-4943-bd8f-9f45f9137019"
      },
      "source": [
        "# 리스트를 연결해보자.\n",
        "\n",
        "node1 = Node(3)\n",
        "node2 = Node(4)\n",
        "\n",
        "node3 = Node(5)\n",
        "node4 = Node(6)\n",
        "\n",
        "node1.next = node2\n",
        "node2.next = node3\n",
        "node3.next = node4\n",
        "\n",
        "node = node1        # 첫번째노드부터 시작한다.\n",
        "while node:         # 노드별로 반복문을 수행\n",
        "  print(node.value) \n",
        "  node = node.next  # 다음노드를 현재노드에 저장하면서 위치를 바꾼다."
      ],
      "execution_count": 5,
      "outputs": [
        {
          "output_type": "stream",
          "text": [
            "3\n",
            "4\n",
            "5\n",
            "6\n"
          ],
          "name": "stdout"
        }
      ]
    },
    {
      "cell_type": "markdown",
      "metadata": {
        "id": "DdM5H_FFyiEw"
      },
      "source": [
        "### 과제 Part2"
      ]
    },
    {
      "cell_type": "code",
      "metadata": {
        "colab": {
          "base_uri": "https://localhost:8080/"
        },
        "id": "xDbUB07PpAn8",
        "outputId": "7511ad22-2c02-4930-adf7-2ed368f3138b"
      },
      "source": [
        "# 요구사항:\n",
        "    # 아래 주어진 연결리스트 소스코드를 참고하여 3개의 문제에 대해 결과값이 아래처럼 나올 수 있도록 코드를 작성하세요.\n",
        "    # 문제는 if __name__ == \"__main__\": 코드 아래에 있습니다.\n",
        "\n",
        "class Node:\n",
        "    def __init__(self,value,next=None):\n",
        "        self.value = value  # 노드의 값을 나타내는 value\n",
        "        self.next = next  # 노드의 다음위치를 가리키는 next의 초기값은 None\n",
        "\n",
        "# 작성해야 할 소스코드\n",
        "class linked_list:\n",
        "    def __init__(self, value):\n",
        "        self.head = Node(value)\n",
        "\n",
        "    def add_node(self, value):\n",
        "        if self.head == None:\n",
        "            self.head = Node(value)\n",
        "        else:\n",
        "            node = self.head\n",
        "            while node.next:\n",
        "                node = node.next\n",
        "            node.next = Node(value) # init함수의 value\n",
        "\n",
        "    # 연결리스트의 삭제구현\n",
        "    def del_node(self,value):\n",
        "        if self.head == None:\n",
        "            print(\"해당 값에 대한 노드는 없다.\")\n",
        "            return  # 의미없는 조건에서 함수는 아무것도 반환하지 않는다. \n",
        "        elif self.head.value == value:\n",
        "            ##### 소스코드 구현 #####\n",
        "            temp_node = self.head\n",
        "            self.head = self.head.next\n",
        "            del temp_node\n",
        "        else:\n",
        "            node = self.head\n",
        "            while node.next:\n",
        "                if node.next.value == value:\n",
        "                    ##### 소스코드 구현 #####\n",
        "                    temp_node = node.next\n",
        "                    node.next = node.next.next\n",
        "                    del temp_node\n",
        "                else : \n",
        "                    node = node.next\n",
        "\n",
        "    # 연결리스트의 다음 노드출력을 위한 기능\n",
        "    def ord_desc(self):\n",
        "        node = self.head\n",
        "        while node:\n",
        "            ##### 소스코드 구현 #####\n",
        "            print(node.value)\n",
        "            node = node.next\n",
        "\n",
        "    # 연결리스트 검색함수\n",
        "    def search_node(self,value):\n",
        "        node = self.head\n",
        "        while node:\n",
        "            if node.value == value:\n",
        "                ##### 소스코드 구현 #####\n",
        "                return node\n",
        "            else:\n",
        "                node = node.next\n",
        "\n",
        "if __name__ == \"__main__\":\n",
        "    # 문제 3-1)\n",
        "    # 문제 1. 결과값\n",
        "    # [9, 10, 11, 12, 13, 14, 15, 16, 17, 18, 19]\n",
        "    print(\"=======문제 1번=======\")\n",
        "    test_list = linked_list(9)\n",
        "    for value in range(10,20):\n",
        "        test_list.add_node(value)\n",
        "    \n",
        "    print(test_list.ord_desc())\n",
        "\n",
        "    # 문제 3-2)\n",
        "    # 문제 2. 결과값\n",
        "    # 11\n",
        "    print(\"=======문제 2번=======\")\n",
        "    node = test_list.search_node(9)\n",
        "    print(node.next.next.value)\n",
        "\n",
        "    # 문제 3-3)\n",
        "    # 문제 3. 결과값\n",
        "    # [9, 10, 11, 12, 13, 14, 16, 17, 18, 19]\n",
        "    print(\"=======문제 3번=======\")\n",
        "    test_list.del_node(15)\n",
        "    print(test_list.ord_desc())"
      ],
      "execution_count": 1,
      "outputs": [
        {
          "output_type": "stream",
          "text": [
            "=======문제 1번=======\n",
            "9\n",
            "10\n",
            "11\n",
            "12\n",
            "13\n",
            "14\n",
            "15\n",
            "16\n",
            "17\n",
            "18\n",
            "19\n",
            "None\n",
            "=======문제 2번=======\n",
            "11\n",
            "=======문제 3번=======\n",
            "9\n",
            "10\n",
            "11\n",
            "12\n",
            "13\n",
            "14\n",
            "16\n",
            "17\n",
            "18\n",
            "19\n",
            "None\n"
          ],
          "name": "stdout"
        }
      ]
    },
    {
      "cell_type": "markdown",
      "metadata": {
        "id": "HfimjsJd9il5"
      },
      "source": [
        "- 위에서 문제 1번,3번 마지막에 None이 나와서 pytest 통과 못함\n",
        "- 아래 코드는 통과 !!"
      ]
    },
    {
      "cell_type": "code",
      "metadata": {
        "colab": {
          "base_uri": "https://localhost:8080/"
        },
        "id": "NB0FfAQcpAlt",
        "outputId": "8f6607b1-c76f-4c78-a6b1-f7ab7f92f992"
      },
      "source": [
        "# 요구사항:\n",
        "    # 아래 주어진 연결리스트 소스코드를 참고하여 3개의 문제에 대해 결과값이 아래처럼 나올 수 있도록 코드를 작성하세요.\n",
        "    # 문제는 if __name__ == \"__main__\": 코드 아래에 있습니다.\n",
        "\n",
        "class Node:\n",
        "    def __init__(self,value,next=None):\n",
        "        self.value = value  # 노드의 값을 나타내는 value\n",
        "        self.next = next  # 노드의 다음위치를 가리키는 next의 초기값은 None\n",
        "\n",
        "# 작성해야 할 소스코드\n",
        "class linked_list:\n",
        "    def __init__(self, value):\n",
        "        self.head = Node(value)\n",
        "\n",
        "    def add_node(self, value):\n",
        "        if self.head == None: # head가 없으면 입력받은 value를 head로 지정\n",
        "            self.head = Node(value)\n",
        "        else: # head가 있으면 해당 head를 node로 지정하고\n",
        "            node = self.head\n",
        "            while node.next: # 다음 노드가 없을때까지 node에 넣음 \n",
        "                node = node.next\n",
        "            node.next = Node(value) # init함수의 value\n",
        "\n",
        "    # 연결리스트의 삭제구현\n",
        "    def del_node(self,value):\n",
        "        if self.head == None: # 빈 연결리스트의 경우 에러메세지 출력하고\n",
        "            print(\"해당 값에 대한 노드는 없다.\")\n",
        "            return  # 의미없는 조건에서 함수는 아무것도 반환하지 않는다. \n",
        "        elif self.head.value == value: # head에 해당 value가 있으면 \n",
        "            ##### 소스코드 구현 #####\n",
        "            temp_node = self.head # head값을 temp노드로 옮기고(연결리스트에서 빼는 과정)\n",
        "            self.head = self.head.next # head 다음 노드를 head로 이동(한칸씩 땡기는 과정)\n",
        "            del temp_node # 해당 value를 삭제한다\n",
        "        else: # 위의 두가지 경우가 아닌경우(연결리스트가 비어있지 않고, 삭제하려는 값이 head에 있지 않은 경우)\n",
        "            node = self.head # head를 node에 넣어주고 \n",
        "            while node.next: # 다음 노드들을 아래의 조건에 따라 반복한다\n",
        "                if node.next.value == value: #(위의 elif문과 동일한 과정으로 삭제)\n",
        "                    ##### 소스코드 구현 #####\n",
        "                    temp_node = node.next \n",
        "                    node.next = node.next.next\n",
        "                    del temp_node\n",
        "                else : \n",
        "                    node = node.next\n",
        "\n",
        "    # 연결리스트의 다음 노드출력을 위한 기능\n",
        "    def ord_desc(self):\n",
        "        node = self.head # head가 있으면 node로 지정\n",
        "        ##### 소스코드 구현 ##### \n",
        "        node_list = []\n",
        "        while node: # head가 없을때까지 반복\n",
        "            node_list.append(node.next)\n",
        "            node = node.next\n",
        "        return node_list\n",
        "\n",
        "    # 연결리스트 검색함수\n",
        "    def search_node(self,value):\n",
        "        node = self.head\n",
        "        while node:\n",
        "            if node.value == value:\n",
        "                ##### 소스코드 구현 #####\n",
        "                return node\n",
        "            else:\n",
        "                node = node.next\n",
        "\n",
        "if __name__ == \"__main__\":\n",
        "    # 문제 3-1)\n",
        "    # 문제 1. 결과값\n",
        "    # [9, 10, 11, 12, 13, 14, 15, 16, 17, 18, 19]\n",
        "    print(\"=======문제 1번=======\")\n",
        "    test_list = linked_list(9)\n",
        "    for value in range(10,20):\n",
        "        test_list.add_node(value)\n",
        "    \n",
        "    print(test_list.ord_desc())\n",
        "\n",
        "    # 문제 3-2)\n",
        "    # 문제 2. 결과값\n",
        "    # 11\n",
        "    print(\"=======문제 2번=======\")\n",
        "    node = test_list.search_node(9)\n",
        "    print(node.next.next.value)\n",
        "\n",
        "    # 문제 3-3)\n",
        "    # 문제 3. 결과값\n",
        "    # [9, 10, 11, 12, 13, 14, 16, 17, 18, 19]\n",
        "    print(\"=======문제 3번=======\")\n",
        "    test_list.del_node(15)\n",
        "    print(test_list.ord_desc())"
      ],
      "execution_count": 5,
      "outputs": [
        {
          "output_type": "stream",
          "text": [
            "=======문제 1번=======\n",
            "[<__main__.Node object at 0x7f22c188e310>, <__main__.Node object at 0x7f22c188e050>, <__main__.Node object at 0x7f22c188ee50>, <__main__.Node object at 0x7f22c188ead0>, <__main__.Node object at 0x7f22c188ef10>, <__main__.Node object at 0x7f22c188e510>, <__main__.Node object at 0x7f22c188ea50>, <__main__.Node object at 0x7f22c188e1d0>, <__main__.Node object at 0x7f22c188e9d0>, <__main__.Node object at 0x7f22c188e150>, None]\n",
            "=======문제 2번=======\n",
            "11\n",
            "=======문제 3번=======\n",
            "[<__main__.Node object at 0x7f22c188e310>, <__main__.Node object at 0x7f22c188e050>, <__main__.Node object at 0x7f22c188ee50>, <__main__.Node object at 0x7f22c188ead0>, <__main__.Node object at 0x7f22c188ef10>, <__main__.Node object at 0x7f22c188ea50>, <__main__.Node object at 0x7f22c188e1d0>, <__main__.Node object at 0x7f22c188e9d0>, <__main__.Node object at 0x7f22c188e150>, None]\n"
          ],
          "name": "stdout"
        }
      ]
    },
    {
      "cell_type": "markdown",
      "metadata": {
        "id": "yhJRcTZqAyJy"
      },
      "source": [
        "## 2. 큐(Queue)\n",
        "\n",
        "- 큐는 항목을 FIFO(선입 선출) 순서로 저장하는 자료구조이다.\n",
        "\n",
        "- deque : double-ended queue의 줄임말\n",
        "\n",
        "  - 큐에서 양방향으로 데이터를 처리한다는 의미이다.\n",
        "\n",
        "  - double은 자료구조에서 양방향을 의미한다.\n",
        "\n",
        "    - 리스트를 큐로 사용하기 참조 : https://docs.python.org/ko/3/tutorial/datastructures.html?highlight=deque\n",
        "\n",
        "    - collections 모듈의 deque 참조 : https://docs.python.org/ko/3/library/collections.html#collections.deque\n",
        "\n",
        "<br><br>\n",
        "\n",
        "- 실제로 값을 빼거나 삭제시키는 시키는 개념이 아니다.\n",
        "\n",
        "  - enqueue에서는 새로운 노드의 저장공간(변수)를 만들어주고, 그 저장공간에 노드를 넣어주는 개념이다.\n",
        "\n",
        "  - dequeue는 삭제할 노드를 위해 저장공간(변수)를 만들어주고, 그 저장공간에 삭제노드를 넣어주는 개념이다."
      ]
    },
    {
      "cell_type": "code",
      "metadata": {
        "id": "7ywDOFJzBH4R"
      },
      "source": [
        "class Queue:\n",
        "    def __init__(self): \n",
        "        self.front = None # front(앞)와 rear(뒤) 인스턴스변수를 초기화\n",
        "        self.rear = None\n",
        "\n",
        "    def enqueue(self, item):\n",
        "        new_node = LinkedListNode(item)\n",
        "        # 큐가 비어있는지 체크\n",
        "        if self.rear is None:\n",
        "            self.front = new_node\n",
        "            self.rear = new_node\n",
        "        else:\n",
        "            # 새로운 노드를 rear 다음에 삽입\n",
        "            self.rear.next = new_node\n",
        "            # 새로운 노드를 rear 재할당\n",
        "            self.rear = new_node\n",
        "    def dequeue(self):\n",
        "        # 큐가 비어있는지 체크\n",
        "        if self.front is not None:\n",
        "            # front값을 old front에 삽입\n",
        "            old_front = self.front\n",
        "            # old front 다음 값을 front값에 삽입\n",
        "            self.front = old_front.next\n",
        "\n",
        "        # 큐가 비어있는지 체크\n",
        "        if self.front is None:\n",
        "            # rear를 None으로 지정한다.\n",
        "            self.rear = None\n",
        "\n",
        "        return old_front"
      ],
      "execution_count": 6,
      "outputs": []
    },
    {
      "cell_type": "markdown",
      "metadata": {
        "id": "uDZfUZsdByGp"
      },
      "source": [
        "- 큐의 Time and Space Complexity(시간, 공간 복잡도)\n",
        "\n",
        "  - Enqueue(대기열에 넣기)\n",
        "\n",
        "    데이터를 큐에 추가하면 (데이터를 큐 rear에 추가) O(1) 시간이 걸린다.\n",
        "\n",
        "    - Dequeue(대기열에서 빼기)\n",
        "\n",
        "    데이터를 큐에서 빼면 (데이터를 큐 front에서 제거) O(1) 시간이 걸린다.\n",
        "\n"
      ]
    },
    {
      "cell_type": "code",
      "metadata": {
        "colab": {
          "base_uri": "https://localhost:8080/"
        },
        "id": "GrYgpmsJEEo8",
        "outputId": "d1246411-15d4-4673-a7bc-861a11b50f76"
      },
      "source": [
        "# 리스트 메소드를 사용해서 큐를 만들어보기\n",
        "\n",
        "from collections import deque\n",
        "queue = deque([\"Eric\", \"John\", \"Michael\"])\n",
        "queue.append(\"Terry\")           \n",
        "queue.append(\"Graham\")          \n",
        "print('queue.popleft() ',queue.popleft())\n",
        "\n",
        "print('queue.popleft() ',queue.popleft())\n",
        "\n",
        "print('queue ', queue)        "
      ],
      "execution_count": 8,
      "outputs": [
        {
          "output_type": "stream",
          "text": [
            "queue.popleft()  Eric\n",
            "queue.popleft()  John\n",
            "queue  deque(['Michael', 'Terry', 'Graham'])\n"
          ],
          "name": "stdout"
        }
      ]
    },
    {
      "cell_type": "markdown",
      "metadata": {
        "id": "5IJ9rcvuCClc"
      },
      "source": [
        "## 3. 스택(Stack)\n",
        "\n",
        "* 파이썬의 리스트는 동적으로 처리된다.\n",
        "\n"
      ]
    },
    {
      "cell_type": "code",
      "metadata": {
        "id": "_ZHIJlYhBH1L"
      },
      "source": [
        "class Stack:\n",
        "    def __init__(self):\n",
        "        self.data = [] # 동적처리(리스트값이 정해져있지 않음, 대괄호만 선언 및 저장)\n",
        "\n",
        "    def push(self, item):\n",
        "        self.data.append(item)\n",
        "\n",
        "    def pop(self):\n",
        "        if len(self.data) > 0:\n",
        "            return self.data.pop()\n",
        "        return \"The stack is empty\""
      ],
      "execution_count": 9,
      "outputs": []
    },
    {
      "cell_type": "markdown",
      "metadata": {
        "id": "suFyGJIGCisp"
      },
      "source": [
        "- push 함수는 파이썬의 리스트개념과 리스트메소드(append, pop)를 사용하여 인덱스를 추가한다.\n",
        "\n",
        "- pop 함수는 인덱스의 마지막 노드를 추출한다.\n",
        "\n",
        "- 위와 같이 내장함수가 아닌, 연결리스트 개념과 단순 변수를 사용하여 스택의 구현 방법에 대해 알아본다\n"
      ]
    },
    {
      "cell_type": "code",
      "metadata": {
        "id": "Es3Oi05IBHyx"
      },
      "source": [
        "# 아래의 코드는 스택이 내부적으로 어떻게 작동되는지 확인하기 위해 작성되었다.\n",
        "# 파이썬에서 자체적으로 제공하는 리스트의 append, pop 메소드를 활용하면 쉽게 구현될 수 있지만,\n",
        "# 아래처럼 다른 방법으로도 구현하는 코드를 보면서 스택에 대한 이해도를 높일 수 있다.\n",
        "\n",
        "class LinkedListNode:\n",
        "    def __init__(self, data):\n",
        "        self.data = data\n",
        "        self.next = None\n",
        "\n",
        "class Stack:\n",
        "    def __init__(self):\n",
        "        self.top = None\n",
        "\n",
        "    def push(self, data): \n",
        "        # 신규 노드 생성\n",
        "        new_node = LinkedListNode(data)\n",
        "        # 최상단의 노드를 신규 노드 다음 노드로 삽입 ##### 어렵따 #####\n",
        "        new_node.next = self.top\n",
        "        # 신규 노드를 최상단에 삽입\n",
        "        self.top = new_node\n",
        "        return new_node.data\n",
        "\n",
        "    def pop(self):\n",
        "        # 스택이 비어있는지 확인\n",
        "        if self.top is not None:\n",
        "            # 최상단의 노드를 삭제할 노드로 삽입\n",
        "            popped_node = self.top\n",
        "            # 삭제할 노드 다음 노드를 최상단의 노드로 삽입\n",
        "            self.top = popped_node.next\n",
        "            # 삭제할 노드로부터 값 리턴\n",
        "            return popped_node.data"
      ],
      "execution_count": 10,
      "outputs": []
    },
    {
      "cell_type": "markdown",
      "metadata": {
        "id": "hlqcOyeHC3qo"
      },
      "source": [
        "- 위 push 함수는 연결리스트의 헤드에 새 노드를 삽입한다.\n",
        "\n",
        "- pop 함수는 연결리스트의 헤드(최상단)에 있는 노드를 추출한다.\n",
        "\n",
        "- 스택의 소스코드도 큐와 동작은 유사하지만, 입출력의 순서는 반대이다."
      ]
    },
    {
      "cell_type": "code",
      "metadata": {
        "colab": {
          "base_uri": "https://localhost:8080/"
        },
        "id": "2RYyv-2JEQA8",
        "outputId": "51a743d6-0820-40f9-e3a1-4ce14e714538"
      },
      "source": [
        "# 리스트 메소드를 사용해서 스택만들어보기\n",
        "\n",
        "stack = [3, 4, 5]\n",
        "stack.append(6)\n",
        "stack.append(7)\n",
        "print(stack)\n",
        "\n",
        "stack.pop()\n",
        "print(stack)\n",
        "\n",
        "stack.pop()\n",
        "print(stack)\n",
        "\n",
        "stack.pop()\n",
        "print(stack)\n",
        "\n",
        "# 위의 코드처럼 push와 pop을 활용해서 공간에 값이 유동적으로 변한다.(동적처리)"
      ],
      "execution_count": 11,
      "outputs": [
        {
          "output_type": "stream",
          "text": [
            "[3, 4, 5, 6, 7]\n",
            "[3, 4, 5, 6]\n",
            "[3, 4, 5]\n",
            "[3, 4]\n"
          ],
          "name": "stdout"
        }
      ]
    }
  ]
}